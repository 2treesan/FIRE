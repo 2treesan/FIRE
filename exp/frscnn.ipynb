{
 "cells": [
  {
   "cell_type": "code",
   "execution_count": 3,
   "id": "b0a72278",
   "metadata": {},
   "outputs": [],
   "source": [
    "import os\n",
    "os.chdir(\"D:/Github_Local_Path/FIRE\")\n"
   ]
  },
  {
   "cell_type": "code",
   "execution_count": 1,
   "id": "4ececac0",
   "metadata": {},
   "outputs": [
    {
     "name": "stdout",
     "output_type": "stream",
     "text": [
      "Collecting hydra-core\n",
      "  Downloading hydra_core-1.3.2-py3-none-any.whl.metadata (5.5 kB)\n",
      "Collecting omegaconf<2.4,>=2.2 (from hydra-core)\n",
      "  Downloading omegaconf-2.3.0-py3-none-any.whl.metadata (3.9 kB)\n",
      "Collecting antlr4-python3-runtime==4.9.* (from hydra-core)\n",
      "  Downloading antlr4-python3-runtime-4.9.3.tar.gz (117 kB)\n",
      "  Preparing metadata (setup.py): started\n",
      "  Preparing metadata (setup.py): finished with status 'done'\n",
      "Requirement already satisfied: packaging in d:\\python\\lib\\site-packages (from hydra-core) (24.1)\n",
      "Requirement already satisfied: PyYAML>=5.1.0 in d:\\python\\lib\\site-packages (from omegaconf<2.4,>=2.2->hydra-core) (6.0.2)\n",
      "Downloading hydra_core-1.3.2-py3-none-any.whl (154 kB)\n",
      "Downloading omegaconf-2.3.0-py3-none-any.whl (79 kB)\n",
      "Building wheels for collected packages: antlr4-python3-runtime\n",
      "  Building wheel for antlr4-python3-runtime (setup.py): started\n",
      "  Building wheel for antlr4-python3-runtime (setup.py): finished with status 'done'\n",
      "  Created wheel for antlr4-python3-runtime: filename=antlr4_python3_runtime-4.9.3-py3-none-any.whl size=144577 sha256=8162cde7331ac22db071840ab2b04bef50d9bc1c42adeb3534470b738706e3b8\n",
      "  Stored in directory: c:\\users\\dao chi hien\\appdata\\local\\pip\\cache\\wheels\\1f\\be\\48\\13754633f1d08d1fbfc60d5e80ae1e5d7329500477685286cd\n",
      "Successfully built antlr4-python3-runtime\n",
      "Installing collected packages: antlr4-python3-runtime, omegaconf, hydra-core\n",
      "\n",
      "   ---------------------------------------- 0/3 [antlr4-python3-runtime]\n",
      "   ---------------------------------------- 0/3 [antlr4-python3-runtime]\n",
      "   ---------------------------------------- 0/3 [antlr4-python3-runtime]\n",
      "   ---------------------------------------- 0/3 [antlr4-python3-runtime]\n",
      "   ---------------------------------------- 0/3 [antlr4-python3-runtime]\n",
      "   ---------------------------------------- 0/3 [antlr4-python3-runtime]\n",
      "   ---------------------------------------- 0/3 [antlr4-python3-runtime]\n",
      "   ------------- -------------------------- 1/3 [omegaconf]\n",
      "   ------------- -------------------------- 1/3 [omegaconf]\n",
      "   ------------- -------------------------- 1/3 [omegaconf]\n",
      "   ------------- -------------------------- 1/3 [omegaconf]\n",
      "   ------------- -------------------------- 1/3 [omegaconf]\n",
      "   -------------------------- ------------- 2/3 [hydra-core]\n",
      "   -------------------------- ------------- 2/3 [hydra-core]\n",
      "   -------------------------- ------------- 2/3 [hydra-core]\n",
      "   -------------------------- ------------- 2/3 [hydra-core]\n",
      "   -------------------------- ------------- 2/3 [hydra-core]\n",
      "   -------------------------- ------------- 2/3 [hydra-core]\n",
      "   -------------------------- ------------- 2/3 [hydra-core]\n",
      "   -------------------------- ------------- 2/3 [hydra-core]\n",
      "   -------------------------- ------------- 2/3 [hydra-core]\n",
      "   -------------------------- ------------- 2/3 [hydra-core]\n",
      "   ---------------------------------------- 3/3 [hydra-core]\n",
      "\n",
      "Successfully installed antlr4-python3-runtime-4.9.3 hydra-core-1.3.2 omegaconf-2.3.0\n"
     ]
    },
    {
     "name": "stderr",
     "output_type": "stream",
     "text": [
      "  DEPRECATION: Building 'antlr4-python3-runtime' using the legacy setup.py bdist_wheel mechanism, which will be removed in a future version. pip 25.3 will enforce this behaviour change. A possible replacement is to use the standardized build interface by setting the `--use-pep517` option, (possibly combined with `--no-build-isolation`), or adding a `pyproject.toml` file to the source tree of 'antlr4-python3-runtime'. Discussion can be found at https://github.com/pypa/pip/issues/6334\n"
     ]
    }
   ],
   "source": [
    "!pip install hydra-core\n"
   ]
  },
  {
   "cell_type": "code",
   "execution_count": 24,
   "id": "67482c36",
   "metadata": {},
   "outputs": [
    {
     "name": "stdout",
     "output_type": "stream",
     "text": [
      "[1] Data successfully loaded.\n",
      "Train: 720 | Val: 90 | Test: 90\n",
      "LR: torch.Size([16, 3, 128, 128]) | HR: torch.Size([16, 3, 256, 256])\n",
      "[2] Model successfully built.\n",
      "Model: FSRCNN | #Params: 19718\n"
     ]
    },
    {
     "name": "stderr",
     "output_type": "stream",
     "text": [
      "Error executing job with overrides: ['loader.scale=2', 'loader.hr_dir=D:/Github_Local_path/data', 'model=fsrcnn', 'trainer.epochs=50', 'loader.num_workers=0', 'eval=default']\n",
      "Error locating target 'src.eval.default.DefaultEvaluator', set env var HYDRA_FULL_ERROR=1 to see chained exception.\n",
      "full_key: eval\n",
      "\n",
      "Set the environment variable HYDRA_FULL_ERROR=1 for a complete stack trace.\n"
     ]
    },
    {
     "ename": "SystemExit",
     "evalue": "1",
     "output_type": "error",
     "traceback": [
      "An exception has occurred, use %tb to see the full traceback.\n",
      "\u001b[1;31mSystemExit\u001b[0m\u001b[1;31m:\u001b[0m 1\n"
     ]
    }
   ],
   "source": [
    "%run D:/Github_Local_path/FIRE/main.py \\\n",
    "    loader.scale=2 \\\n",
    "    loader.hr_dir=\"D:/Github_Local_path/data\" \\\n",
    "    model=fsrcnn \\\n",
    "    trainer.epochs=50 \\\n",
    "    loader.num_workers=0 \\\n",
    "    eval=default"
   ]
  }
 ],
 "metadata": {
  "kernelspec": {
   "display_name": "Python 3",
   "language": "python",
   "name": "python3"
  },
  "language_info": {
   "codemirror_mode": {
    "name": "ipython",
    "version": 3
   },
   "file_extension": ".py",
   "mimetype": "text/x-python",
   "name": "python",
   "nbconvert_exporter": "python",
   "pygments_lexer": "ipython3",
   "version": "3.12.2"
  }
 },
 "nbformat": 4,
 "nbformat_minor": 5
}
