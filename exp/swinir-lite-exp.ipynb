{
 "cells": [
  {
   "cell_type": "code",
   "execution_count": 1,
   "metadata": {},
   "outputs": [
    {
     "name": "stdout",
     "output_type": "stream",
     "text": [
      "Requirement already satisfied: hydra-core in /home/zeus/miniconda3/envs/cloudspace/lib/python3.12/site-packages (1.3.2)\n",
      "Requirement already satisfied: omegaconf<2.4,>=2.2 in /home/zeus/miniconda3/envs/cloudspace/lib/python3.12/site-packages (from hydra-core) (2.3.0)\n",
      "Requirement already satisfied: antlr4-python3-runtime==4.9.* in /home/zeus/miniconda3/envs/cloudspace/lib/python3.12/site-packages (from hydra-core) (4.9.3)\n",
      "Requirement already satisfied: packaging in /home/zeus/miniconda3/envs/cloudspace/lib/python3.12/site-packages (from hydra-core) (25.0)\n",
      "Requirement already satisfied: PyYAML>=5.1.0 in /home/zeus/miniconda3/envs/cloudspace/lib/python3.12/site-packages (from omegaconf<2.4,>=2.2->hydra-core) (6.0.2)\n"
     ]
    }
   ],
   "source": [
    "!pip install hydra-core"
   ]
  },
  {
   "cell_type": "code",
   "execution_count": null,
   "metadata": {},
   "outputs": [
    {
     "name": "stdout",
     "output_type": "stream",
     "text": [
      "[1] Data successfully loaded.\n",
      "Train: 720 | Val: 90 | Test: 90\n",
      "LR: torch.Size([16, 3, 128, 128]) | HR: torch.Size([16, 3, 256, 256])\n",
      "[2] Model successfully built.\n",
      "Model: SwinIRLite | #Params: 394395\n",
      "[3] Evaluator successfully built.\n",
      "[001] L1=0.3034 | Val PSNR=9.583 SSIM=0.1214 | lr=9.99e-05 | 38.3s\n",
      "[002] L1=0.2412 | Val PSNR=11.984 SSIM=0.1259 | lr=9.96e-05 | 37.6s\n",
      "[003] L1=0.1619 | Val PSNR=14.275 SSIM=0.1995 | lr=9.91e-05 | 37.8s\n",
      "[004] L1=0.1306 | Val PSNR=14.778 SSIM=0.2701 | lr=9.84e-05 | 38.1s\n",
      "[005] L1=0.1090 | Val PSNR=18.287 SSIM=0.3225 | lr=9.76e-05 | 38.1s\n",
      "[006] L1=0.0855 | Val PSNR=20.394 SSIM=0.4192 | lr=9.65e-05 | 38.1s\n",
      "[007] L1=0.0788 | Val PSNR=20.840 SSIM=0.4285 | lr=9.52e-05 | 38.1s\n",
      "[008] L1=0.0771 | Val PSNR=21.177 SSIM=0.4494 | lr=9.38e-05 | 38.1s\n",
      "[009] L1=0.0749 | Val PSNR=21.499 SSIM=0.4706 | lr=9.22e-05 | 38.1s\n",
      "[010] L1=0.0706 | Val PSNR=21.727 SSIM=0.4989 | lr=9.05e-05 | 38.1s\n",
      "[011] L1=0.0689 | Val PSNR=22.461 SSIM=0.5347 | lr=8.85e-05 | 38.1s\n",
      "[012] L1=0.0661 | Val PSNR=22.554 SSIM=0.5431 | lr=8.64e-05 | 38.1s\n",
      "[013] L1=0.0649 | Val PSNR=22.940 SSIM=0.5748 | lr=8.42e-05 | 38.1s\n",
      "[014] L1=0.0638 | Val PSNR=23.051 SSIM=0.5700 | lr=8.19e-05 | 38.1s\n",
      "[015] L1=0.0621 | Val PSNR=22.887 SSIM=0.5520 | lr=7.94e-05 | 38.1s\n",
      "[016] L1=0.0628 | Val PSNR=23.057 SSIM=0.5868 | lr=7.68e-05 | 38.1s\n",
      "[017] L1=0.0619 | Val PSNR=23.275 SSIM=0.5908 | lr=7.41e-05 | 38.1s\n",
      "[018] L1=0.0602 | Val PSNR=23.536 SSIM=0.5982 | lr=7.13e-05 | 38.1s\n",
      "[019] L1=0.0602 | Val PSNR=23.674 SSIM=0.6148 | lr=6.84e-05 | 38.1s\n",
      "[020] L1=0.0595 | Val PSNR=23.863 SSIM=0.6338 | lr=6.55e-05 | 38.1s\n",
      "[021] L1=0.0588 | Val PSNR=23.860 SSIM=0.6449 | lr=6.24e-05 | 38.0s\n",
      "[022] L1=0.0599 | Val PSNR=23.359 SSIM=0.5812 | lr=5.94e-05 | 38.1s\n",
      "[023] L1=0.0582 | Val PSNR=23.850 SSIM=0.6283 | lr=5.63e-05 | 38.1s\n",
      "[024] L1=0.0567 | Val PSNR=24.082 SSIM=0.6605 | lr=5.31e-05 | 38.1s\n",
      "[025] L1=0.0562 | Val PSNR=24.115 SSIM=0.6594 | lr=5.00e-05 | 38.1s\n",
      "[026] L1=0.0566 | Val PSNR=24.195 SSIM=0.6471 | lr=4.69e-05 | 38.3s\n",
      "[027] L1=0.0564 | Val PSNR=24.363 SSIM=0.6685 | lr=4.37e-05 | 38.1s\n",
      "[028] L1=0.0563 | Val PSNR=24.307 SSIM=0.6597 | lr=4.06e-05 | 38.1s\n",
      "[029] L1=0.0559 | Val PSNR=24.287 SSIM=0.6714 | lr=3.76e-05 | 38.1s\n",
      "[030] L1=0.0551 | Val PSNR=24.445 SSIM=0.6741 | lr=3.45e-05 | 38.0s\n",
      "[031] L1=0.0543 | Val PSNR=24.344 SSIM=0.6779 | lr=3.16e-05 | 38.1s\n",
      "[032] L1=0.0539 | Val PSNR=24.408 SSIM=0.6808 | lr=2.87e-05 | 38.1s\n",
      "[033] L1=0.0543 | Val PSNR=24.414 SSIM=0.6697 | lr=2.59e-05 | 38.1s\n",
      "[034] L1=0.0544 | Val PSNR=24.399 SSIM=0.6823 | lr=2.32e-05 | 38.1s\n",
      "[035] L1=0.0544 | Val PSNR=24.418 SSIM=0.6706 | lr=2.06e-05 | 38.1s\n",
      "[036] L1=0.0552 | Val PSNR=24.492 SSIM=0.6814 | lr=1.81e-05 | 38.0s\n",
      "[037] L1=0.0527 | Val PSNR=24.488 SSIM=0.6886 | lr=1.58e-05 | 38.1s\n",
      "[038] L1=0.0536 | Val PSNR=24.547 SSIM=0.6936 | lr=1.36e-05 | 38.1s\n",
      "[039] L1=0.0547 | Val PSNR=24.563 SSIM=0.6872 | lr=1.15e-05 | 38.1s\n",
      "[040] L1=0.0529 | Val PSNR=24.593 SSIM=0.6963 | lr=9.55e-06 | 38.1s\n",
      "[041] L1=0.0537 | Val PSNR=24.600 SSIM=0.6968 | lr=7.78e-06 | 38.1s\n",
      "[042] L1=0.0532 | Val PSNR=24.612 SSIM=0.6974 | lr=6.18e-06 | 38.1s\n",
      "[043] L1=0.0529 | Val PSNR=24.582 SSIM=0.6956 | lr=4.76e-06 | 38.1s\n",
      "[044] L1=0.0530 | Val PSNR=24.608 SSIM=0.6974 | lr=3.51e-06 | 38.1s\n",
      "[045] L1=0.0532 | Val PSNR=24.609 SSIM=0.6981 | lr=2.45e-06 | 38.1s\n",
      "[046] L1=0.0528 | Val PSNR=24.610 SSIM=0.6979 | lr=1.57e-06 | 38.1s\n",
      "[047] L1=0.0530 | Val PSNR=24.643 SSIM=0.6989 | lr=8.86e-07 | 38.2s\n",
      "[048] L1=0.0525 | Val PSNR=24.629 SSIM=0.6990 | lr=3.94e-07 | 38.1s\n",
      "[049] L1=0.0534 | Val PSNR=24.634 SSIM=0.6994 | lr=9.87e-08 | 38.1s\n",
      "[050] L1=0.0538 | Val PSNR=24.635 SSIM=0.6994 | lr=0.00e+00 | 38.1s\n",
      "[4] Trainer successfully built and trained.\n",
      "Test PSNR=24.343 SSIM=0.6933\n"
     ]
    }
   ],
   "source": [
    "%run /teamspace/studios/this_studio/FIRE/main.py \\\n",
    "    loader.scale=2 \\\n",
    "    loader.hr_dir=/teamspace/studios/this_studio/FIRE/data \\\n",
    "    model=swinir_lite trainer.epochs=50"
   ]
  }
 ],
 "metadata": {
  "language_info": {
   "name": "python"
  }
 },
 "nbformat": 4,
 "nbformat_minor": 2
}
